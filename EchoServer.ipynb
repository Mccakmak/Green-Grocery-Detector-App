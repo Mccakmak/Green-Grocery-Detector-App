{
 "cells": [
  {
   "cell_type": "code",
   "execution_count": 1,
   "metadata": {},
   "outputs": [
    {
     "name": "stderr",
     "output_type": "stream",
     "text": [
      "Using TensorFlow backend.\n"
     ]
    }
   ],
   "source": [
    "#Kütüphaneler\n",
    "#DL KISMI\n",
    "from keras.models import load_model\n",
    "from keras.preprocessing.image import ImageDataGenerator\n",
    "from keras.applications.mobilenet import preprocess_input\n",
    "import numpy as np\n",
    "\n",
    "#SERVER KISMI\n",
    "import socket\n",
    "import pickle\n",
    "import os"
   ]
  },
  {
   "cell_type": "code",
   "execution_count": null,
   "metadata": {},
   "outputs": [],
   "source": [
    "#MODEL TRAİN KISMI\n",
    "from keras.applications.vgg16 import VGG16\n",
    "from keras.models import Sequential\n",
    "from keras.layers.core import Flatten, Dense, Dropout\n",
    "from keras.preprocessing.image import ImageDataGenerator\n",
    "from keras.optimizers import Adam\n",
    "from sklearn.metrics import confusion_matrix\n",
    "from sklearn.metrics import accuracy_score\n",
    "import numpy as np\n",
    "VGG16_model = VGG16()\n",
    "\n",
    "train_path = 'C:/Users/MUSTAFAAKTAS/Desktop/SonDataSet/Train'\n",
    "valid_path = 'C:/Users/MUSTAFAAKTAS/Desktop/SonDataSet/Validation'\n",
    "\n",
    "batch_size = 32\n",
    "\n",
    "train_batches = ImageDataGenerator().flow_from_directory(train_path, target_size = (224,224),\n",
    "                                                        classes = ['Ananas','Çilek','Elma','Kayısı','Kiraz','Liçi','Muz','Şeftali'], batch_size=batch_size, shuffle=True)\n",
    "valid_batches = ImageDataGenerator().flow_from_directory(valid_path, target_size = (224,224),\n",
    "                                                        classes = ['Ananas','Çilek','Elma','Kayısı','Kiraz','Liçi','Muz','Şeftali'], batch_size=batch_size, shuffle=True)\n",
    "\n",
    "model = Sequential()\n",
    "\n",
    "for layer in VGG16_model.layers[:-2]:\n",
    "    model.add(layer)\n",
    "    \n",
    "for layer in model.layers:\n",
    "    layer.trainable = False\n",
    "    \n",
    "model.add(Dense(128, activation='relu'))\n",
    "model.add(Dense(activation=\"softmax\", units=8))\n",
    "\n",
    "model.compile(Adam(lr = .0001),loss='categorical_crossentropy',metrics=['accuracy'])\n",
    "model.fit_generator(train_batches, steps_per_epoch = len(train_batches),validation_data = valid_batches, \n",
    "                    validation_steps = len(valid_batches), epochs = 10, verbose = 1, shuffle=True)\n"
   ]
  },
  {
   "cell_type": "code",
   "execution_count": 2,
   "metadata": {},
   "outputs": [],
   "source": [
    "#Bazı sabitler\n",
    "i = 1 #Dosya adıyla ilgili.\n",
    "\n",
    "#NOT FOUND UN INDEXI SABIT OLMALI! Son eleman olarak ata!\n",
    "NOT_FOUND_CASE_VALUE = 99\n",
    "\n",
    "#TRESHOLD DEGERI\n",
    "TRESHOLD = 0.8\n",
    "\n",
    "#BATCH SİZE\n",
    "BATCH_SIZE = 1"
   ]
  },
  {
   "cell_type": "code",
   "execution_count": null,
   "metadata": {
    "scrolled": true
   },
   "outputs": [],
   "source": [
    "HOST = '127.0.0.1'  \n",
    "PORT = 12345       # 1023 ten büyük bir sayı olsun.\n",
    "\n",
    "with socket.socket(socket.AF_INET, socket.SOCK_STREAM) as s:\n",
    "    s.bind((HOST, PORT))\n",
    "    s.listen(5)\n",
    "    i = 1 #Dosya adıyla ilgili.\n",
    "    print(\"başladı\")\n",
    "    \n",
    "    \n",
    "    while True:\n",
    "        conn, addr = s.accept()\n",
    "        print(\"kabul etti\")\n",
    "        with conn:\n",
    "            print(' > Yeni bir Baglanti! ', addr)           \n",
    "            data = (b'')\n",
    "            while True:  \n",
    "                yenidata = conn.recv(57) #yeni datayı al\n",
    "                if yenidata == b'\\x00\\x01\\x02\\x03\\x04':\n",
    "                    fileName = 'yeniResim'+str(i)\n",
    "                    with open(\"C:/Users/MUSTAFAAKTAS/Desktop/Indirilenler/\"+fileName+\".jpeg\", \"wb\") as fh:\n",
    "                        fh.write(((data))) \n",
    "                        i = i + 1 #dosya ismini ayarlamak icin\n",
    "                        print(\" >\",fileName,\" kaydedildi.\")\n",
    "                    break            \n",
    "                data = data + yenidata #yeni gelen data yı öncekini sonuna ekliyoruz.\n",
    "\n",
    "            ##########ŞİMDİ DL KISMI##########\n",
    "            try:\n",
    "                test_path = 'C:/Users/MUSTAFAAKTAS/Desktop/Indirilenler'\n",
    "                test_batches = ImageDataGenerator(preprocessing_function = preprocess_input).flow_from_directory(test_path, \n",
    "                                    target_size = (224,224), classes = ['Test'], batch_size = BATCH_SIZE, shuffle = False)\n",
    "\n",
    "                test_labels = {0: 'Pineapple', 1: 'Strawberry', 2: 'Apple', 3: 'Apricot',\n",
    "                              4: 'Cherry', 5: 'Lychee', 6:'Banana', 7:'Peach'}\n",
    "\n",
    "                preds = model.predict_generator(test_batches, steps=len(test_batches))\n",
    "                #preds = preds.tolist()\n",
    "                print(\" > Tahminler: \",preds)\n",
    "\n",
    "                mask = []\n",
    "                for i in range(len(preds[0])):\n",
    "                    mask.append(True) if preds[0][i] > TRESHOLD else mask.append(False)\n",
    "                    \n",
    "            except FileNotFoundError:\n",
    "                print(\"UYARI: test_path bulunamadı!\")\n",
    "            \n",
    "            ##########BURADA DA CLASS INI CLIENT A GONDERIYORUZ.##########\n",
    "            if(os.path.exists(\"C:/Users/MUSTAFAAKTAS/Desktop/Indirilenler/\"+fileName+\".jpeg\")):\n",
    "                if any(mask):\n",
    "                    maxDeger = np.argmax(preds[0])\n",
    "                    cevap = str(test_labels[maxDeger])\n",
    "                    conn.send(bytes(cevap.encode('utf-8')))\n",
    "                    conn.send(bytes(\"-\".encode('utf-8'))) #En son da durmasi icin - yolluyoruz            \n",
    "                else:\n",
    "                    conn.sendall(('NOT FOUND!').encode('utf-8'))\n",
    "                print(\" > Resmin class'i Client'a gonderildi ..\")\n",
    "\n",
    "                os.remove(\"C:/Users/MUSTAFAAKTAS/Desktop/Indirilenler/Test/\"+fileName+\".jpg\") #Tahmin edilen resmi sil."
   ]
  },
  {
   "cell_type": "code",
   "execution_count": null,
   "metadata": {},
   "outputs": [],
   "source": []
  }
 ],
 "metadata": {
  "kernelspec": {
   "display_name": "Python 3",
   "language": "python",
   "name": "python3"
  },
  "language_info": {
   "codemirror_mode": {
    "name": "ipython",
    "version": 3
   },
   "file_extension": ".py",
   "mimetype": "text/x-python",
   "name": "python",
   "nbconvert_exporter": "python",
   "pygments_lexer": "ipython3",
   "version": "3.5.5"
  }
 },
 "nbformat": 4,
 "nbformat_minor": 2
}
